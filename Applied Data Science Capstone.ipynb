{
 "cells": [
  {
   "cell_type": "markdown",
   "metadata": {},
   "source": [
    "#                                         **Applied Data Science Capstone by Manisha** \n",
    "##                         **Peer-graded Assignment: Capstone Project - The Battle of Neighborhoods (Week 1)**"
   ]
  },
  {
   "cell_type": "markdown",
   "metadata": {
    "slideshow": {
     "slide_type": "notes"
    }
   },
   "source": [
    "# Background / Introduction and Business Problem Statement:\n",
    "\n",
    "## Client - An Indian IT company planning to start up their overseas branch in New York.\n",
    "![Alt text](NewYork.jpg)\n",
    "### Requirement- \n",
    "The business demand of the IT services and solutions given to the various companies in USA is on rise. Due to new rule the US companies are not able to hire / get on-site the skilled Indian professionals. Thus this company wants to start their subsidiary in US to take care of customer requirements. They have to decide on the location of their new office in New York to open their office. \n",
    "We have been approached to do the study and suggest them an ideal location.\n",
    "Business Problem - As initially they will be sending their Senior Management team from India to establish the subsidy, the concern from the company is to have least issue in settling for these people so that they work can start immediately and, if they needed can stay in on-site location for a longer time. \n",
    "As informed, is the team has to move for a duration of 2-3 years minimum for the subsidy to get stable then following parameters needs to be considered.\n",
    "\n",
    "1.\tPopulation rate\n",
    "2.\tMedian house price \n",
    "3.\tEating Joints – Vegetarian joints availability is must. \n",
    "4.\tSchools / Educational institutes ratings\n",
    "5.\tWeather conditions.\n",
    "6.\tCrime rates \n",
    "7.\tRecreational facilities\n",
    "\n",
    "\n",
    "This project helps the end user or the stakeholder to achieve the results which will not only recommend but also saves a lot of time in manual search. This will indeed save the time and money of the user.This projects core objective is to study the Neighborhoods with respect to above parameters and provide a detailed analysis to users which can help them decide the Final location of their new office. \n",
    "\n",
    "This project can be used by the user at the time of renting apartment or buying house in a locality based on the distribution of various facilities available around the neighborhood.This project would compare 2 randomly picked neighborhoods and analyses the top 10 most common venues in each of those two neighborhoods based on the number of visits by people in each of those places. Also, this project uses K-mean clustering unsupervised machine learning algorithm to cluster the venues based on the place category such as restaurants, park, coffee shop, gym, clubs etc. This would give a better understanding of the similarities and dissimilarities between the two chosen neighborhoods to retrieve more insights and to conclude with ease which neighborhood wins over other.\n",
    "\n"
   ]
  },
  {
   "cell_type": "markdown",
   "metadata": {},
   "source": [
    "### *Alternatively the problem statement can be captured by the Question below*\n",
    "“How can IT companies decide the location of their new subsidiary to help their overseas staff to choose between which neighbourhoods in NY to live during their 2-3 years stay?”\n"
   ]
  },
  {
   "cell_type": "markdown",
   "metadata": {},
   "source": [
    "### **Trusted Data Sources for the Project ::**\n",
    "The following trusted data sources will be used to conduct Data exploration and other forms of data analysis as part of the methodology for the project.\n",
    "1.\tNY Neighbourhood Data – https://ibm.box.com/shared/static/fbpwbovar7lf8p5sgddm06cgipa2rxpe.json &  https://geo.nyu.edu/catalog/nyu_2451_34572\n",
    "2.\tFoursquare Location Data This API has a database of more than 105 million places. This project would use Four-square API as its prime data gathering source. Many organizations are using to geo-tag their photos with detailed info about a destination, while also serving up contextually relevant locations for those who are searching for a place to eat, drink or explore. This API provides the ability to perform location search, location sharing and details about a business. Foursquare users can also use photos, tips and reviews in many productive ways to add value to the results. (Venues [Restaurants, Community Centres,], TOP tips, Favourites, User Experience, etc.), Educational institutes, Metro (distance) will be used to cluster, segment, target, and position to craft recommendations for the Indian end-user community.\n",
    "3.\tFolium- Python visualization library would be used to visualize the neighborhoods cluster distribution of NY city over an interactive leaflet map.\n",
    "Using the data available in the above 3 trusted sources, we will be conducting clustering and neighbourhood based analysis leveraging primarily Foursquare APIs and tools such as KNN and relevant Unsupervised machine learning algorithm K-mean clustering would be applied to form the clusters of different categories of places residing in and around the neighborhoods. Extensive comparative analysis of two randomly picked neighborhoods world be carried out to derive the desirable insights from the outcomes using python’s scientific libraries Pandas, NumPy and Scikit-learn. . These clusters from each of those two chosen neighborhoods would be analyzed individually collectively and comparatively to derive the conclusions. Based on this options to the target user community primarily comprising of the Indian Executive’s\n"
   ]
  },
  {
   "cell_type": "markdown",
   "metadata": {},
   "source": [
    "Let me also provide below the specific steps that will be deployed to work with the data derived from Foursqaure and the K means approach . We will cover neighborhoods of NY and also the category of \"Population Distribution analysis, Median House Price Analysis, School Ratings\"\n",
    "\n",
    "HTTP requests would be made to this Foursquare API server using zip codes of the Newyork city neighborhoods to pull the location information (Latitude and Longitude).Foursquare API search feature would be enabled to collect the nearby places of the neighborhoods. \n",
    "Due to http request limitations the number of places per neighborhood parameter would reasonably be set to 150 and the radius parameter would be set to 800.Leveraging the recommender systems capabilities enabled by Foursquare to conduct compare / contrast the data points to derive the recommendations.\n",
    "\n",
    "### **Methodology ::**\n",
    "\n",
    "The methodology employed is aligned with the Data Science 10 steps program that was discussed during an earlier module of the course. \n",
    "\n",
    "A.\tThe workflow of the project starts with the web scraping and data wrangling. Using the Beautiful Soup library, the postal code and the neighborhood the data is processed to derive the latitude and longitude of the NY neighborhood.<br>\n",
    "B.\tWith the folium Map, the latitude and longitude of the NY neighborhood provides the choropleth visualization.<br>\n",
    "C.\tObtain relevant places data from Foursquare and clean it for data understanding and grouping etc.<br>\n",
    "D.\tExplore the data for clusters & patterns of Neighborhoods in Boroughs.<br>\n",
    "E.\tGroup the places of high interest into relevant neighborhood and Borough pairings.<br>\n",
    "F.\tGenerate the markers on NY & maps to highlight the neighborhoods that are in focus.<br>\n",
    "G.\tUse Foursquare venue, Categories etc to enable the profiling the primary & focus neighborhoods.<br>\n",
    "H.\tFourSquare API and K-means clustering methods are used to retrive the top trend venues of the NY neighborhood.<br>\n",
    "I.\tElbow criterion method is used here to the optimum number of cluster present in the dataset.<br>\n",
    "J.\tSilhoutte Cofficient analysis is also used to find the number of cluster.<br>\n",
    "\n",
    "In this project , decision of buying , rental or setting up market is getting recommended based on the clustered neighborhoods, Population Distribution analysis, Median House Price Analysis, School Ratings.\n"
   ]
  },
  {
   "cell_type": "markdown",
   "metadata": {},
   "source": [
    "### **Python packages and Dependencies:**\n",
    "• Pandas - Library for Data Analysis <br>\n",
    "• NumPy – Library to handle data in a vectorized manner<br>\n",
    "• JSON – Library to handle JSON files <br>\n",
    "• Geopy – To retrieve Location Data <br>\n",
    "• Requests – Library to handle http requests<br>\n",
    "• Matplotlib – Python Plotting Module <br>\n",
    "• Sklearn – Python machine learning Library <br>\n",
    "• Folium – Map rendering Library<br>\n",
    "• Beautifulsoup – Web scraping and data wrangling<br>\n"
   ]
  },
  {
   "cell_type": "code",
   "execution_count": null,
   "metadata": {},
   "outputs": [],
   "source": []
  }
 ],
 "metadata": {
  "kernelspec": {
   "display_name": "Python 3",
   "language": "python",
   "name": "python3"
  },
  "language_info": {
   "codemirror_mode": {
    "name": "ipython",
    "version": 3
   },
   "file_extension": ".py",
   "mimetype": "text/x-python",
   "name": "python",
   "nbconvert_exporter": "python",
   "pygments_lexer": "ipython3",
   "version": "3.6.6"
  }
 },
 "nbformat": 4,
 "nbformat_minor": 2
}
